{
  "nbformat": 4,
  "nbformat_minor": 0,
  "metadata": {
    "colab": {
      "name": "Untitled7.ipynb",
      "provenance": [],
      "authorship_tag": "ABX9TyOSSFvdE7+Q7xqr1/P973Gr",
      "include_colab_link": true
    },
    "kernelspec": {
      "name": "python3",
      "display_name": "Python 3"
    },
    "language_info": {
      "name": "python"
    }
  },
  "cells": [
    {
      "cell_type": "markdown",
      "metadata": {
        "id": "view-in-github",
        "colab_type": "text"
      },
      "source": [
        "<a href=\"https://colab.research.google.com/github/vanij/OR-LAB/blob/main/ORLAB_EXP02_03_R103219023.ipynb\" target=\"_parent\"><img src=\"https://colab.research.google.com/assets/colab-badge.svg\" alt=\"Open In Colab\"/></a>"
      ]
    },
    {
      "cell_type": "markdown",
      "metadata": {
        "id": "Ti6tvq9eLhUJ"
      },
      "source": [
        "ORLAB Exp 02,03"
      ]
    },
    {
      "cell_type": "markdown",
      "metadata": {
        "id": "hAkknCCp9JvG"
      },
      "source": [
        "**Q1.A firm is engaged in producing two products, A and B. Each unit of product A requires 2 kg of raw material and 4 labour hours for processing, whereas each unit of product B requires 3 kg of raw material and 3 hours of labour, of the same type. Every week, the firm has an availability of 60 kg of raw material and 96 labour hours. One unit of product A sold yields Rs. 40 and one unit of product B sold gives Rs. 35 as profit. Formulate this problem as a linear programming problem to determine as to how many units of each of the products should be produced per week so that the firm can earn the maximum profit.**"
      ]
    },
    {
      "cell_type": "code",
      "metadata": {
        "colab": {
          "base_uri": "https://localhost:8080/"
        },
        "id": "RYwyyeK5LT28",
        "outputId": "39eb01a0-ffa6-4760-c153-96f71a23e472"
      },
      "source": [
        "from scipy.optimize import linprog\n",
        "obj1 = [-40, -35]\n",
        "lhs_ineq1 = [[ 2,  3],[4,  3]]\n",
        "rhs_ineq1 = [60, 96]\n",
        "bnd1 = [(0, float(\"inf\")), (0, float(\"inf\"))]\n",
        "opt1 = linprog(c=obj1, A_ub=lhs_ineq1, b_ub=rhs_ineq1, bounds=bnd1, method=\"revised simplex\")\n",
        "opt1"
      ],
      "execution_count": 1,
      "outputs": [
        {
          "output_type": "execute_result",
          "data": {
            "text/plain": [
              "     con: array([], dtype=float64)\n",
              "     fun: -1000.0\n",
              " message: 'Optimization terminated successfully.'\n",
              "     nit: 2\n",
              "   slack: array([0., 0.])\n",
              "  status: 0\n",
              " success: True\n",
              "       x: array([18.,  8.])"
            ]
          },
          "metadata": {},
          "execution_count": 1
        }
      ]
    },
    {
      "cell_type": "markdown",
      "metadata": {
        "id": "Z0w6F3IlMO4J"
      },
      "source": [
        ""
      ]
    },
    {
      "cell_type": "markdown",
      "metadata": {
        "id": "1qvUvu3L_Zc5"
      },
      "source": [
        "**Q2. The Agricultural research Institute suggested to a farmer to spread out at least 4800 kg of a special phosphate fertilizer and not less than 7200 kg of a special nitrogen fertilizer to raise productivity of crops in his fields. There are two sources for obtaining these − mixtures A and B. Both of these are available in bags weighing 100 kg each and they cost Rs. 40 and Rs. 24 respectively. Mixture A contains phosphate and nitrogen equivalent of 20 kg and 80 kg respectively, while mixture B contains these ingredients equivalent of 50 kg each. Write as a linear programming problem to determine how many bags of each type the farmer should buy in order to obtain the required fertilizer at a minimum cost.**"
      ]
    },
    {
      "cell_type": "code",
      "metadata": {
        "colab": {
          "base_uri": "https://localhost:8080/"
        },
        "id": "gnmlvRD1_aci",
        "outputId": "9f874bd6-838e-495d-c37f-3ae928ed6261"
      },
      "source": [
        "c2 = [40, 24]\n",
        "a2 = [[ -20,  -50],[-80,  -50]]\n",
        "b2 = [-4800, -7200]\n",
        "bnd2 = [(0, float(\"inf\")), (0, float(\"inf\"))]\n",
        "opt2 = linprog(c=c2, A_ub=a2, b_ub=b2, bounds=bnd2, method=\"revised simplex\")\n",
        "opt2"
      ],
      "execution_count": 2,
      "outputs": [
        {
          "output_type": "execute_result",
          "data": {
            "text/plain": [
              "     con: array([], dtype=float64)\n",
              "     fun: 3456.0\n",
              " message: 'Optimization terminated successfully.'\n",
              "     nit: 3\n",
              "   slack: array([2400.,    0.])\n",
              "  status: 0\n",
              " success: True\n",
              "       x: array([  0., 144.])"
            ]
          },
          "metadata": {},
          "execution_count": 2
        }
      ]
    },
    {
      "cell_type": "markdown",
      "metadata": {
        "id": "-lx1yYc2MZHR"
      },
      "source": [
        ""
      ]
    },
    {
      "cell_type": "markdown",
      "metadata": {
        "id": "wKVeOkXq_fCR"
      },
      "source": [
        "**Q3. A company manufactures two products A and B. These products are processed in the same machine. It takes 10 minutes to process one unit of product A and 2 minutes for each unit of product B and the machine operates for a maximum of 35 hours in a week. Product A requires 1 kg and B 0.5 kg of raw material per unit, the supply of which is 600 kg per week. Market constraint on product B is known to be minimum of 800 units every week. Product A costs Rs. 5 per unit and sold at Rs. 10. Product B costs Rs. 6 per unit and can be sold in the market at a unit price of Rs. 8. Determine the number of units of A and B per week to maximize the profit.**"
      ]
    },
    {
      "cell_type": "code",
      "metadata": {
        "colab": {
          "base_uri": "https://localhost:8080/"
        },
        "id": "qOhAscpU_fjW",
        "outputId": "aad72b0c-4157-4cf1-821a-f54a9148c13e"
      },
      "source": [
        "c3 = [-5, -2]\n",
        "a3 = [[ 10,  2],[1,  0.5]]\n",
        "b3 = [2100, 600]\n",
        "bnd3 = [(0, float(\"inf\")), (800, float(\"inf\"))]\n",
        "opt3 = linprog(c=c3, A_ub=a3, b_ub=b3, bounds=bnd3, method=\"revised simplex\")\n",
        "opt3"
      ],
      "execution_count": 3,
      "outputs": [
        {
          "output_type": "execute_result",
          "data": {
            "text/plain": [
              "     con: array([], dtype=float64)\n",
              "     fun: -2100.0\n",
              " message: 'Optimization terminated successfully.'\n",
              "     nit: 2\n",
              "   slack: array([ 0., 75.])\n",
              "  status: 0\n",
              " success: True\n",
              "       x: array([   0., 1050.])"
            ]
          },
          "metadata": {},
          "execution_count": 3
        }
      ]
    },
    {
      "cell_type": "markdown",
      "metadata": {
        "id": "6IgQsQEFMhTe"
      },
      "source": [
        ""
      ]
    },
    {
      "cell_type": "markdown",
      "metadata": {
        "id": "6jc22sk9_kC7"
      },
      "source": [
        "**Q4. An electric appliance company produces two products: refrigerators and ranges. Production takes place in two separate departments I and II. Refrigerators are produced in department I and ranges in department II. The company's two products are sold on a weekly basis. the weekly production cannot exceed 25 refrigerators and 35 ranges. the company regularly employs a total of 60 workers in the two departments. A refrigerator requires 2 man-weeks labour while a range requires 1 man-week labour. A refrigerator contributes a profit of Rs. 60 and range contributes a profit of Rs. 40. how many units of refrigerators and ranges should the company produce to realize the maximum profit?**"
      ]
    },
    {
      "cell_type": "code",
      "metadata": {
        "colab": {
          "base_uri": "https://localhost:8080/"
        },
        "id": "tXc5QNZB_kYx",
        "outputId": "cc6cb4ad-7f35-46c4-e560-714938a7a320"
      },
      "source": [
        "c4 = [-60, -40]\n",
        "a4 = [[ 2,  1]]\n",
        "b4 = [60]\n",
        "bnd4 = [(0, 25), (0, 35)]\n",
        "opt4 = linprog(c=c4, A_ub=a4, b_ub=b4, bounds=bnd4, method=\"revised simplex\")\n",
        "opt4"
      ],
      "execution_count": 4,
      "outputs": [
        {
          "output_type": "execute_result",
          "data": {
            "text/plain": [
              "     con: array([], dtype=float64)\n",
              "     fun: -2150.0\n",
              " message: 'Optimization terminated successfully.'\n",
              "     nit: 3\n",
              "   slack: array([0.])\n",
              "  status: 0\n",
              " success: True\n",
              "       x: array([12.5, 35. ])"
            ]
          },
          "metadata": {},
          "execution_count": 4
        }
      ]
    },
    {
      "cell_type": "markdown",
      "metadata": {
        "id": "v9hUGePWMrEG"
      },
      "source": [
        ""
      ]
    },
    {
      "cell_type": "markdown",
      "metadata": {
        "id": "wYyNIHo__nHL"
      },
      "source": [
        "**Q5. Solve the following** **LPP**:-\n",
        "\n",
        "**Minimize Z = 20X1 + 10X2**\n",
        "\n",
        "**Subject to **\n",
        "\n",
        "**X1 + 2X2 ≤ 40**\n",
        "\n",
        "**3X1 + 1X2 ≥ 30**\n",
        "\n",
        "**4X1 + 3X2 ≥ 60**\n",
        "\n",
        "**X1 ,X2 ≥ 0** "
      ]
    },
    {
      "cell_type": "code",
      "metadata": {
        "colab": {
          "base_uri": "https://localhost:8080/"
        },
        "id": "VeuoqKW2_oi_",
        "outputId": "239a2a0c-d60c-456a-c2ac-d3db7511174c"
      },
      "source": [
        "c5 = [20, 10]\n",
        "a5 = [[ 1,  2],[-3,  -1], [-4,  -3]]\n",
        "b5 = [40, -30, -60]\n",
        "bnd5 = [(0, float(\"inf\")), (0, float(\"inf\"))]\n",
        "opt5 = linprog(c=c5, A_ub=a5, b_ub=b5, bounds=bnd5, method=\"revised simplex\")\n",
        "opt5"
      ],
      "execution_count": 5,
      "outputs": [
        {
          "output_type": "execute_result",
          "data": {
            "text/plain": [
              "     con: array([], dtype=float64)\n",
              "     fun: 240.0\n",
              " message: 'Optimization terminated successfully.'\n",
              "     nit: 2\n",
              "   slack: array([10.,  0.,  0.])\n",
              "  status: 0\n",
              " success: True\n",
              "       x: array([ 6., 12.])"
            ]
          },
          "metadata": {},
          "execution_count": 5
        }
      ]
    },
    {
      "cell_type": "markdown",
      "metadata": {
        "id": "Dw7nAjX1MygL"
      },
      "source": [
        ""
      ]
    },
    {
      "cell_type": "markdown",
      "metadata": {
        "id": "RpwHJWsr_sTK"
      },
      "source": [
        "**Q6. Solve the following LPP:-**\n",
        "\n",
        "**Maximize Z = X1 + X2 + 3X3**\n",
        "\n",
        "**Subject to**\n",
        "\n",
        "**3X1 + 2X2 +X3 ≤300**\n",
        "\n",
        "**2X1 + X2 + 2X3 ≤200**\n",
        "\n",
        "**X1 , X2 , X3 ≥0 **"
      ]
    },
    {
      "cell_type": "code",
      "metadata": {
        "colab": {
          "base_uri": "https://localhost:8080/"
        },
        "id": "uV4cBmRD_s8a",
        "outputId": "74b56813-171a-41ff-c8d4-bbe6d3c5ac02"
      },
      "source": [
        "c6 = [-1, -1, -3]\n",
        "a6 = [[ 3,  2, 1],[2, 1, 2]]\n",
        "b6 = [300, 200]\n",
        "bnd6 = [(0, float(\"inf\")), (0, float(\"inf\")),  (0, float(\"inf\"))]\n",
        "opt6 = linprog(c=c6, A_ub=a6, b_ub=b6, bounds=bnd6, method=\"revised simplex\")\n",
        "opt6"
      ],
      "execution_count": 6,
      "outputs": [
        {
          "output_type": "execute_result",
          "data": {
            "text/plain": [
              "     con: array([], dtype=float64)\n",
              "     fun: -300.0\n",
              " message: 'Optimization terminated successfully.'\n",
              "     nit: 1\n",
              "   slack: array([200.,   0.])\n",
              "  status: 0\n",
              " success: True\n",
              "       x: array([  0.,   0., 100.])"
            ]
          },
          "metadata": {},
          "execution_count": 6
        }
      ]
    }
  ]
}