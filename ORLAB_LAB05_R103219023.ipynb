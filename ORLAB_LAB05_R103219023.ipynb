{
  "nbformat": 4,
  "nbformat_minor": 0,
  "metadata": {
    "colab": {
      "name": "Untitled9.ipynb",
      "provenance": [],
      "authorship_tag": "ABX9TyM54A7OIjrkz3r9VvsyrPjk",
      "include_colab_link": true
    },
    "kernelspec": {
      "name": "python3",
      "display_name": "Python 3"
    },
    "language_info": {
      "name": "python"
    }
  },
  "cells": [
    {
      "cell_type": "markdown",
      "metadata": {
        "id": "view-in-github",
        "colab_type": "text"
      },
      "source": [
        "<a href=\"https://colab.research.google.com/github/vanij/OR-LAB/blob/main/ORLAB_LAB05_R103219023.ipynb\" target=\"_parent\"><img src=\"https://colab.research.google.com/assets/colab-badge.svg\" alt=\"Open In Colab\"/></a>"
      ]
    },
    {
      "cell_type": "markdown",
      "metadata": {
        "id": "r-l2xPGtdYsu"
      },
      "source": [
        "\n",
        "#**EXP-5 | LPP using Array**\n"
      ]
    },
    {
      "cell_type": "code",
      "metadata": {
        "id": "-tSIwUSfaLao"
      },
      "source": [
        "from scipy.optimize import linprog\n",
        "import time"
      ],
      "execution_count": 1,
      "outputs": []
    },
    {
      "cell_type": "markdown",
      "metadata": {
        "id": "jcT8gl40dq5C"
      },
      "source": [
        "## Question 1\n",
        "\n",
        "maximize  Z = 3X¬1 + 2X2 + 3X3<br>\n",
        "Subject to,<br>\n",
        " 2X1 + X2 + X3 = 2<br>\n",
        "X1 + 3X2 + X3 =6<br>\n",
        "3X1 + 4X2 + 2X3 =8<br>\n",
        "X1 ,X2 , X3 ≥0\n"
      ]
    },
    {
      "cell_type": "code",
      "metadata": {
        "colab": {
          "base_uri": "https://localhost:8080/"
        },
        "id": "tJTEHsxzaMtR",
        "outputId": "57628049-b3ea-4eaf-8de9-1163c61c19dc"
      },
      "source": [
        "c = [-3, -2, -3]\n",
        "A = [[2, 1, 1], [ 1, 3, 1], [3, 4, 2]]\n",
        "b = [2, 6, 8]\n",
        "x1_bnds = (0, None)\n",
        "x2_bnds = (0, None)\n",
        "x3_bnds = (0, None)\n",
        "\n",
        "start_time = time.time()\n",
        "res = linprog(c, A_eq = A, b_eq =  b, bounds=(x1_bnds, x2_bnds, x3_bnds),method = 'revised simplex')\n",
        "print(\"--- %s seconds ---\" % (time.time() - start_time))\n",
        "print(res) "
      ],
      "execution_count": 2,
      "outputs": [
        {
          "output_type": "stream",
          "name": "stdout",
          "text": [
            "--- 0.06115293502807617 seconds ---\n",
            "     con: array([0., 0., 0.])\n",
            "     fun: -4.0\n",
            " message: 'Optimization terminated successfully.'\n",
            "     nit: 3\n",
            "   slack: array([], dtype=float64)\n",
            "  status: 0\n",
            " success: True\n",
            "       x: array([0., 2., 0.])\n"
          ]
        },
        {
          "output_type": "stream",
          "name": "stderr",
          "text": [
            "/usr/local/lib/python3.7/dist-packages/ipykernel_launcher.py:9: OptimizeWarning: A_eq does not appear to be of full row rank. To improve performance, check the problem formulation for redundant equality constraints.\n",
            "  if __name__ == '__main__':\n"
          ]
        }
      ]
    },
    {
      "cell_type": "markdown",
      "metadata": {
        "id": "gzVyTv7WeCkf"
      },
      "source": [
        "#Question 2\n",
        "\n",
        "minimize  Z = 3X¬1 - 4X2 + 3X3 <br>\n",
        "Subject to,<br>\n",
        " 5X¬1 + 6X2 + 2X3 ≤ 5<br>\n",
        "-X¬1 + 3X2 +5 X3 ≥ 8<br>\n",
        "2X¬1 + 5X2 - 4X3 ≤4<br>\n",
        "X1 ,X2 , X3 ≥0\n"
      ]
    },
    {
      "cell_type": "code",
      "metadata": {
        "colab": {
          "base_uri": "https://localhost:8080/"
        },
        "id": "AR_cPvLFcUmB",
        "outputId": "98a4e8b4-ee6a-4214-fdf3-5cef45d14838"
      },
      "source": [
        "c = [3, -4, 3]\n",
        "A = [[5, 6, 2], [ 1, -3, -5], [2, 5, -4]]\n",
        "b = [5, -8, 4]\n",
        "x1_bnds = (0, None)\n",
        "x2_bnds = (0, None)\n",
        "x3_bnds = (0, None)\n",
        "\n",
        "start_time = time.time()\n",
        "res = linprog(c, A,  b, bounds=(x1_bnds, x2_bnds, x3_bnds),method = 'revised simplex')\n",
        "print(\"--- %s seconds ---\" % (time.time() - start_time))\n",
        "print(res) "
      ],
      "execution_count": 3,
      "outputs": [
        {
          "output_type": "stream",
          "name": "stdout",
          "text": [
            "--- 0.007619619369506836 seconds ---\n",
            "     con: array([], dtype=float64)\n",
            "     fun: 2.625\n",
            " message: 'Optimization terminated successfully.'\n",
            "     nit: 2\n",
            "   slack: array([0.   , 0.   , 7.625])\n",
            "  status: 0\n",
            " success: True\n",
            "       x: array([0.   , 0.375, 1.375])\n"
          ]
        }
      ]
    },
    {
      "cell_type": "markdown",
      "metadata": {
        "id": "98nfqSt6eK88"
      },
      "source": [
        "#Question 3\n",
        "\n",
        "maximize  Z = 2X¬1 + 4X2 + 4X3  -3X4<br>\n",
        "Subject to,<br>\n",
        " X¬1 + X2 + X3 = 4<br>\n",
        "X¬1 + 4X2 + X4 =8<br>\n",
        "3X¬1 + 4X2 + 2X3 =8<br>\n",
        "X1 ,X2 , X3 , X4 ≥0<br>\n"
      ]
    },
    {
      "cell_type": "code",
      "metadata": {
        "colab": {
          "base_uri": "https://localhost:8080/"
        },
        "id": "or5lh2DObb6Y",
        "outputId": "02199e33-83ad-4d5a-c7b6-97dcb421590f"
      },
      "source": [
        "c = [-2, -4, -4, 3]\n",
        "A = [[1, 1, 1,0], [ 1, 4, 0,  1], [3, 4, 2,0]]\n",
        "b = [4, 8, 8]\n",
        "x1_bnds = (0, None)\n",
        "x2_bnds = (0, None)\n",
        "x3_bnds = (0, None)\n",
        "x4_bnds = (0, None)\n",
        "\n",
        "start_time = time.time()\n",
        "res = linprog(c, A_eq = A, b_eq =  b, bounds=(x1_bnds, x2_bnds, x3_bnds,x4_bnds),method = 'revised simplex')\n",
        "print(\"--- %s seconds ---\" % (time.time() - start_time))\n",
        "print(res) "
      ],
      "execution_count": 4,
      "outputs": [
        {
          "output_type": "stream",
          "name": "stdout",
          "text": [
            "--- 0.009600162506103516 seconds ---\n",
            "     con: array([0., 0., 0.])\n",
            "     fun: 8.0\n",
            " message: 'Optimization terminated successfully.'\n",
            "     nit: 3\n",
            "   slack: array([], dtype=float64)\n",
            "  status: 0\n",
            " success: True\n",
            "       x: array([0., 0., 4., 8.])\n"
          ]
        }
      ]
    }
  ]
}